{
  "cells": [
    {
      "cell_type": "markdown",
      "source": [
        "#Import biblioteka"
      ],
      "metadata": {
        "id": "y68kz5WuaYx0"
      }
    },
    {
      "cell_type": "code",
      "execution_count": null,
      "metadata": {
        "id": "F94M3vSRupkr"
      },
      "outputs": [],
      "source": [
        "%pip install ultralytics\n",
        "import ultralytics"
      ]
    },
    {
      "cell_type": "code",
      "execution_count": null,
      "metadata": {
        "id": "NtsrCJF3vIFl"
      },
      "outputs": [],
      "source": [
        "from ultralytics import YOLO\n",
        "import cv2\n",
        "from google.colab.patches import cv2_imshow\n",
        "import os\n",
        "from PIL import Image\n",
        "import numpy as np"
      ]
    },
    {
      "cell_type": "markdown",
      "source": [
        "#Učitavanje modela YOLO"
      ],
      "metadata": {
        "id": "rBTYvKDjarOL"
      }
    },
    {
      "cell_type": "code",
      "execution_count": null,
      "metadata": {
        "id": "Oi7IaF-XvL7J"
      },
      "outputs": [],
      "source": [
        "model = YOLO(\"yolov8n-face.pt\")"
      ]
    },
    {
      "cell_type": "markdown",
      "source": [
        "#Import podataka"
      ],
      "metadata": {
        "id": "sJEabOfeaoz2"
      }
    },
    {
      "cell_type": "code",
      "execution_count": null,
      "metadata": {
        "id": "welJE1VZ1M2Z"
      },
      "outputs": [],
      "source": [
        "from google.colab import drive\n",
        "drive.mount('/content/drive')"
      ]
    },
    {
      "cell_type": "markdown",
      "source": [
        "#Pretprocesiranje slika"
      ],
      "metadata": {
        "id": "LN6N-YI-ayJB"
      }
    },
    {
      "cell_type": "code",
      "execution_count": null,
      "metadata": {
        "id": "e1JVTDvE1Fnz"
      },
      "outputs": [],
      "source": [
        "nums = [\"0001\", \"0002\", \"0003\", \"0004\", \"0005\", \"0006\", \"0007\", \"0008\", \"0009\", \"0010\", \"0011\", \"0012\", \"0013\", \"0014\", \"0015\", \"0016\", \"0017\", \"0018\", \"0019\", \"0020\",\n",
        "        \"0021\", \"0022\", \"0023\", \"0024\", \"0025\", \"0026\", \"0027\", \"0028\", \"0029\", \"0030\", \"0031\", \"0032\", \"0033\", \"0034\", \"0035\", \"0036\", \"0037\", \"0038\", \"0039\", \"0040\",\n",
        "        \"0041\", \"0042\", \"0043\", \"0044\", \"0045\", \"0046\", \"0047\", \"0048\", \"0049\", \"0050\", \"0051\", \"0052\", \"0053\", \"0054\", \"0055\", \"0056\", \"0057\", \"0058\", \"0059\", \"0060\",\n",
        "        \"0061\", \"0062\", \"0063\", \"0064\", \"0065\", \"0066\", \"0067\", \"0068\", \"0069\", \"0070\", \"0071\", \"0072\", \"0073\", \"0074\", \"0075\", \"0076\", \"0077\", \"0078\", \"0079\", \"0080\",\n",
        "        \"0081\", \"0082\", \"0083\", \"0084\", \"0085\", \"0086\", \"0087\", \"0088\", \"0089\", \"0090\", \"0091\", \"0092\", \"0093\", \"0094\", \"0095\", \"0096\", \"0097\", \"0098\", \"0099\", \"0100\",\n",
        "        \"0101\", \"0102\", \"0103\", \"0104\", \"0105\", \"0106\", \"0107\", \"0108\", \"0109\", \"0110\", \"0111\", \"0112\", \"0113\", \"0114\", \"0115\", \"0116\", \"0117\", \"0118\", \"0119\", \"0120\", \"0121\"]\n",
        "\n",
        "for num in nums:\n",
        "  path = \"/content/drive/MyDrive/images_yolo/Alma_Cemer/Alma_Cemer_\"+num+\".jpg\"\n",
        "  frame = cv2.imread(path, cv2.IMREAD_COLOR)\n",
        "  rgb = cv2.cvtColor(frame, cv2.COLOR_BGR2RGB)\n",
        "  results = model(rgb)\n",
        "  boxes = results[0].boxes\n",
        "\n",
        "  if len(boxes) != 1:\n",
        "    print(f'---Photo skipped---\\n')\n",
        "    os.remove(path)\n",
        "    continue\n",
        "\n",
        "  for box in boxes:\n",
        "    top_left_x = int(box.xyxy.tolist()[0][0])\n",
        "    top_left_y = int(box.xyxy.tolist()[0][1])\n",
        "    bottom_right_x = int(box.xyxy.tolist()[0][2])\n",
        "    bottom_right_y = int(box.xyxy.tolist()[0][3])\n",
        "    cropped_image = rgb[top_left_y:bottom_right_y, top_left_x:bottom_right_x]\n",
        "\n",
        "  os.remove(path)\n",
        "  resized_image = cv2.resize(cropped_image, (224, 224))\n",
        "  cv2_imshow(resized_image)\n",
        "  image_array = np.array(resized_image, \"uint8\")\n",
        "\n",
        "  im = Image.fromarray(image_array)\n",
        "  im.save(path)"
      ]
    }
  ],
  "metadata": {
    "accelerator": "GPU",
    "colab": {
      "provenance": []
    },
    "kernelspec": {
      "display_name": "Python 3",
      "name": "python3"
    },
    "language_info": {
      "name": "python"
    }
  },
  "nbformat": 4,
  "nbformat_minor": 0
}